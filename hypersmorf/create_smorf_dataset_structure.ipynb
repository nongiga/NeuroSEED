{
 "cells": [
  {
   "cell_type": "markdown",
   "metadata": {},
   "source": [
    "### Takes my smorf dataset and uses NeuroSEED's code to store it in the same way"
   ]
  },
  {
   "cell_type": "code",
   "execution_count": 11,
   "metadata": {},
   "outputs": [],
   "source": [
    "import sys\n",
    "import re\n",
    "import numpy as np\n",
    "sys.path.insert(0,'../')\n",
    "\n",
    "import pandas as pd\n",
    "import argparse\n",
    "\n",
    "from edit_distance.task.dataset_generator_genomic import EditDistanceGenomicDatasetGenerator"
   ]
  },
  {
   "cell_type": "markdown",
   "metadata": {},
   "source": []
  },
  {
   "cell_type": "code",
   "execution_count": 12,
   "metadata": {},
   "outputs": [
    {
     "data": {
      "text/html": [
       "<div>\n",
       "<style scoped>\n",
       "    .dataframe tbody tr th:only-of-type {\n",
       "        vertical-align: middle;\n",
       "    }\n",
       "\n",
       "    .dataframe tbody tr th {\n",
       "        vertical-align: top;\n",
       "    }\n",
       "\n",
       "    .dataframe thead th {\n",
       "        text-align: right;\n",
       "    }\n",
       "</style>\n",
       "<table border=\"1\" class=\"dataframe\">\n",
       "  <thead>\n",
       "    <tr style=\"text-align: right;\">\n",
       "      <th></th>\n",
       "      <th>set</th>\n",
       "      <th>clust</th>\n",
       "      <th>name</th>\n",
       "      <th>origin</th>\n",
       "      <th>y</th>\n",
       "      <th>upstream</th>\n",
       "      <th>downstream</th>\n",
       "      <th>smorf</th>\n",
       "    </tr>\n",
       "  </thead>\n",
       "  <tbody>\n",
       "    <tr>\n",
       "      <th>60287</th>\n",
       "      <td>train</td>\n",
       "      <td>smorfam02935</td>\n",
       "      <td>SRS144135|31130|129|275|-1</td>\n",
       "      <td>real</td>\n",
       "      <td>positive</td>\n",
       "      <td>GATTAATAAACAAAAAAGAAATAATTCGTTGACTAAAATGTAAAAA...</td>\n",
       "      <td>AATGATTCTTTCTGTAATAAAAAAGTAAAAATGTAATTAAAAAGTA...</td>\n",
       "      <td>ATGTTAAATGACGAAATATGTAAATTAAGAGATAGATTAAACGAAA...</td>\n",
       "    </tr>\n",
       "    <tr>\n",
       "      <th>38271</th>\n",
       "      <td>train</td>\n",
       "      <td>smorfam00398</td>\n",
       "      <td>SRS049896|100_4224.208254|61|198|-1</td>\n",
       "      <td>real</td>\n",
       "      <td>positive</td>\n",
       "      <td>AGGACATTTATCGCTTTCAGACCTATCTGGAAGATCACAGCACCAC...</td>\n",
       "      <td>AAACACCCTGTCGGTGCTGAAAATTGCACCGGGACAGCATCCGCAG...</td>\n",
       "      <td>ATGCTGAACTTTTTTATCGGTATCGCATTTTTTGAGGCTGGTGCCT...</td>\n",
       "    </tr>\n",
       "    <tr>\n",
       "      <th>447517</th>\n",
       "      <td>dev</td>\n",
       "      <td>195481</td>\n",
       "      <td>SRS146830|1340|13074|13202|1</td>\n",
       "      <td>fake</td>\n",
       "      <td>negative</td>\n",
       "      <td>CGAATAGAATACAATTTTATTATAATGGTAAAGCTGAAAAGCCGAG...</td>\n",
       "      <td>AATGCCTTTAGACCCCAAGTTTTGTACTGACATGTAGATTTTATTA...</td>\n",
       "      <td>ATGACGCTCTTATTTTTCAATGTCCTCCGTATTGCAAGAATTTATT...</td>\n",
       "    </tr>\n",
       "    <tr>\n",
       "      <th>255578</th>\n",
       "      <td>train</td>\n",
       "      <td>smorfam01930</td>\n",
       "      <td>SRS015578|100_386.194237|8|127|-1</td>\n",
       "      <td>fake</td>\n",
       "      <td>negative</td>\n",
       "      <td>AATTTTATTAAATGAATTTGTAAATGTGTTTGTTTTATGTCAAATA...</td>\n",
       "      <td>CTGGATG</td>\n",
       "      <td>ATGGAAATAGAGTTGAATTGTTGGTCCGGTTATAGTTTAAATTTAA...</td>\n",
       "    </tr>\n",
       "    <tr>\n",
       "      <th>392941</th>\n",
       "      <td>train</td>\n",
       "      <td>70008</td>\n",
       "      <td>SRS055966|100_160.161|2113|2259|1</td>\n",
       "      <td>fake</td>\n",
       "      <td>negative</td>\n",
       "      <td>TAGGGATCACCTCCGGAGGGCAGGTGCGGCTGGAATCTTCTAGATA...</td>\n",
       "      <td>TAGCACTTATGATCCGATCCAAACAGTGAGAATTCACAAGAAGACT...</td>\n",
       "      <td>GTGGATTCTGCGATGTCGATGGAGAGAGCCGGGTCGCCCGGGGGGA...</td>\n",
       "    </tr>\n",
       "  </tbody>\n",
       "</table>\n",
       "</div>"
      ],
      "text/plain": [
       "          set         clust                                 name origin  \\\n",
       "60287   train  smorfam02935           SRS144135|31130|129|275|-1   real   \n",
       "38271   train  smorfam00398  SRS049896|100_4224.208254|61|198|-1   real   \n",
       "447517    dev        195481         SRS146830|1340|13074|13202|1   fake   \n",
       "255578  train  smorfam01930    SRS015578|100_386.194237|8|127|-1   fake   \n",
       "392941  train         70008    SRS055966|100_160.161|2113|2259|1   fake   \n",
       "\n",
       "               y                                           upstream  \\\n",
       "60287   positive  GATTAATAAACAAAAAAGAAATAATTCGTTGACTAAAATGTAAAAA...   \n",
       "38271   positive  AGGACATTTATCGCTTTCAGACCTATCTGGAAGATCACAGCACCAC...   \n",
       "447517  negative  CGAATAGAATACAATTTTATTATAATGGTAAAGCTGAAAAGCCGAG...   \n",
       "255578  negative  AATTTTATTAAATGAATTTGTAAATGTGTTTGTTTTATGTCAAATA...   \n",
       "392941  negative  TAGGGATCACCTCCGGAGGGCAGGTGCGGCTGGAATCTTCTAGATA...   \n",
       "\n",
       "                                               downstream  \\\n",
       "60287   AATGATTCTTTCTGTAATAAAAAAGTAAAAATGTAATTAAAAAGTA...   \n",
       "38271   AAACACCCTGTCGGTGCTGAAAATTGCACCGGGACAGCATCCGCAG...   \n",
       "447517  AATGCCTTTAGACCCCAAGTTTTGTACTGACATGTAGATTTTATTA...   \n",
       "255578                                            CTGGATG   \n",
       "392941  TAGCACTTATGATCCGATCCAAACAGTGAGAATTCACAAGAAGACT...   \n",
       "\n",
       "                                                    smorf  \n",
       "60287   ATGTTAAATGACGAAATATGTAAATTAAGAGATAGATTAAACGAAA...  \n",
       "38271   ATGCTGAACTTTTTTATCGGTATCGCATTTTTTGAGGCTGGTGCCT...  \n",
       "447517  ATGACGCTCTTATTTTTCAATGTCCTCCGTATTGCAAGAATTTATT...  \n",
       "255578  ATGGAAATAGAGTTGAATTGTTGGTCCGGTTATAGTTTAAATTTAA...  \n",
       "392941  GTGGATTCTGCGATGTCGATGGAGAGAGCCGGGTCGCCCGGGGGGA...  "
      ]
     },
     "execution_count": 12,
     "metadata": {},
     "output_type": "execute_result"
    }
   ],
   "source": [
    "df = pd.read_csv(\"../datasets/dataset_FINAL.tsv\", sep='\\t')\n",
    "\n",
    "df_subset=df.dropna().sample(100, random_state=42)\n",
    "\n",
    "if not os.path.exists('processed_data'):\n",
    "    os.makedirs('processed_data')\n",
    "    \n",
    "df_subset.to_csv('processed_data/smorf_subset.csv')\n",
    "df_subset.head()"
   ]
  },
  {
   "cell_type": "code",
   "execution_count": 45,
   "metadata": {},
   "outputs": [
    {
     "name": "stdout",
     "output_type": "stream",
     "text": [
      "452020\n"
     ]
    }
   ],
   "source": [
    "# save dataset as string\n",
    "\n",
    "file_out='../datasets/strings.txt'\n",
    "\n",
    "no_weird_chars=df['smorf'].str.contains(r'^[ACTG]+$', na=False)\n",
    "\n",
    "print(len(df[no_weird_chars].smorf.values))\n",
    "\n",
    "with open(file_out, 'w') as f_out:\n",
    "    f_out.writelines(\"%s\\n\" % l for l in df[no_weird_chars].smorf.values)\n",
    "\n"
   ]
  },
  {
   "cell_type": "code",
   "execution_count": 47,
   "metadata": {},
   "outputs": [
    {
     "name": "stdout",
     "output_type": "stream",
     "text": [
      "Generating train\n"
     ]
    },
    {
     "name": "stderr",
     "output_type": "stream",
     "text": [
      "Edit distance 7000x7000:  55%|█████▍    | 3848/7000 [02:24<01:53, 27.88it/s]"
     ]
    }
   ],
   "source": [
    "# create string to be read by NeuroSEED-borrowed code\n",
    "parser = argparse.ArgumentParser()\n",
    "parser.add_argument('--out', type=str, default=\"../datasets/string_subset.pkl\", help='Output data path')\n",
    "parser.add_argument('--train_size', type=int, default=7000, help='Training sequences')\n",
    "parser.add_argument('--val_size', type=int, default=700, help='Validation sequences')\n",
    "parser.add_argument('--test_size', type=int, default=1400, help='Test sequences')\n",
    "parser.add_argument('--source_sequences', type=str, default=file_out, help='Sequences data path')\n",
    "args, unknown = parser.parse_known_args()\n",
    "\n",
    "\n",
    "\n",
    "# load and divide sequences\n",
    "with open(args.source_sequences, 'rb') as f:\n",
    "    L = f.readlines()\n",
    "L = [l[:-1].decode('UTF-8') for l in L]\n",
    "\n",
    "strings = {\n",
    "    'train': L[:args.train_size],\n",
    "    'val': L[args.train_size:args.train_size + args.val_size],\n",
    "    'test': L[args.train_size + args.val_size:args.train_size + args.val_size + args.test_size]\n",
    "}\n",
    "\n",
    "data = EditDistanceGenomicDatasetGenerator(strings=strings)\n",
    "data.save_as_pickle(args.out)\n",
    "\n",
    "\n"
   ]
  }
 ],
 "metadata": {
  "interpreter": {
   "hash": "95cf8f9d78f9a4efc159d15b812704439377ddaf89110be74698069e8aea9009"
  },
  "kernelspec": {
   "display_name": "Python 3.8.10 ('neuroseed': venv)",
   "language": "python",
   "name": "python3"
  },
  "language_info": {
   "codemirror_mode": {
    "name": "ipython",
    "version": 3
   },
   "file_extension": ".py",
   "mimetype": "text/x-python",
   "name": "python",
   "nbconvert_exporter": "python",
   "pygments_lexer": "ipython3",
   "version": "3.8.10"
  },
  "orig_nbformat": 4
 },
 "nbformat": 4,
 "nbformat_minor": 2
}
