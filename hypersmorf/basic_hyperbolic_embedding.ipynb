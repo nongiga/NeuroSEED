{
 "cells": [
  {
   "cell_type": "markdown",
   "metadata": {
    "id": "iyPzAuvycefH"
   },
   "source": [
    "Install and import the required packages. "
   ]
  },
  {
   "cell_type": "code",
   "execution_count": 22,
   "metadata": {},
   "outputs": [
    {
     "name": "stdout",
     "output_type": "stream",
     "text": [
      "Requirement already satisfied: geoopt==0.3.1 in /home/noga/NeuroSEED/neuroseed/lib/python3.8/site-packages (0.3.1)\n",
      "Requirement already satisfied: torch>=1.4.0 in /home/noga/NeuroSEED/neuroseed/lib/python3.8/site-packages (from geoopt==0.3.1) (1.7.1+cu101)\n",
      "Requirement already satisfied: numpy in /home/noga/NeuroSEED/neuroseed/lib/python3.8/site-packages (from geoopt==0.3.1) (1.22.3)\n",
      "Requirement already satisfied: typing-extensions in /home/noga/NeuroSEED/neuroseed/lib/python3.8/site-packages (from torch>=1.4.0->geoopt==0.3.1) (4.1.1)\n",
      "\u001b[33mWARNING: You are using pip version 21.1.1; however, version 22.0.4 is available.\n",
      "You should consider upgrading via the '/home/noga/NeuroSEED/neuroseed/bin/python3 -m pip install --upgrade pip' command.\u001b[0m\n",
      "Looking in links: https://download.pytorch.org/whl/torch_stable.html\n",
      "Requirement already satisfied: torch==1.7.1+cu101 in /home/noga/NeuroSEED/neuroseed/lib/python3.8/site-packages (1.7.1+cu101)\n",
      "Requirement already satisfied: torchvision==0.8.2+cu101 in /home/noga/NeuroSEED/neuroseed/lib/python3.8/site-packages (0.8.2+cu101)\n",
      "Requirement already satisfied: torchaudio==0.7.2 in /home/noga/NeuroSEED/neuroseed/lib/python3.8/site-packages (0.7.2)\n",
      "Requirement already satisfied: numpy in /home/noga/NeuroSEED/neuroseed/lib/python3.8/site-packages (from torch==1.7.1+cu101) (1.22.3)\n",
      "Requirement already satisfied: typing-extensions in /home/noga/NeuroSEED/neuroseed/lib/python3.8/site-packages (from torch==1.7.1+cu101) (4.1.1)\n",
      "Requirement already satisfied: pillow>=4.1.1 in /home/noga/NeuroSEED/neuroseed/lib/python3.8/site-packages (from torchvision==0.8.2+cu101) (9.0.1)\n",
      "\u001b[33mWARNING: You are using pip version 21.1.1; however, version 22.0.4 is available.\n",
      "You should consider upgrading via the '/home/noga/NeuroSEED/neuroseed/bin/python3 -m pip install --upgrade pip' command.\u001b[0m\n",
      "Requirement already satisfied: geomstats==2.2 in /home/noga/NeuroSEED/neuroseed/lib/python3.8/site-packages (2.2.0)\n",
      "Requirement already satisfied: scikit-learn>=0.22.1 in /home/noga/NeuroSEED/neuroseed/lib/python3.8/site-packages (from geomstats==2.2) (1.0.2)\n",
      "Requirement already satisfied: matplotlib in /home/noga/NeuroSEED/neuroseed/lib/python3.8/site-packages (from geomstats==2.2) (3.5.1)\n",
      "Requirement already satisfied: numpy>=1.18.1 in /home/noga/NeuroSEED/neuroseed/lib/python3.8/site-packages (from geomstats==2.2) (1.22.3)\n",
      "Requirement already satisfied: jupyter in /home/noga/NeuroSEED/neuroseed/lib/python3.8/site-packages (from geomstats==2.2) (1.0.0)\n",
      "Requirement already satisfied: scipy>=1.4.1 in /home/noga/NeuroSEED/neuroseed/lib/python3.8/site-packages (from geomstats==2.2) (1.8.0)\n",
      "Requirement already satisfied: autograd==1.3 in /home/noga/NeuroSEED/neuroseed/lib/python3.8/site-packages (from geomstats==2.2) (1.3)\n",
      "Requirement already satisfied: joblib==0.14.1 in /home/noga/NeuroSEED/neuroseed/lib/python3.8/site-packages (from geomstats==2.2) (0.14.1)\n",
      "Requirement already satisfied: future>=0.15.2 in /home/noga/NeuroSEED/neuroseed/lib/python3.8/site-packages (from autograd==1.3->geomstats==2.2) (0.18.2)\n",
      "Requirement already satisfied: threadpoolctl>=2.0.0 in /home/noga/NeuroSEED/neuroseed/lib/python3.8/site-packages (from scikit-learn>=0.22.1->geomstats==2.2) (3.1.0)\n",
      "Requirement already satisfied: nbconvert in /home/noga/NeuroSEED/neuroseed/lib/python3.8/site-packages (from jupyter->geomstats==2.2) (6.4.2)\n",
      "Requirement already satisfied: ipykernel in /home/noga/NeuroSEED/neuroseed/lib/python3.8/site-packages (from jupyter->geomstats==2.2) (6.9.1)\n",
      "Requirement already satisfied: qtconsole in /home/noga/NeuroSEED/neuroseed/lib/python3.8/site-packages (from jupyter->geomstats==2.2) (5.2.2)\n",
      "Requirement already satisfied: ipywidgets in /home/noga/NeuroSEED/neuroseed/lib/python3.8/site-packages (from jupyter->geomstats==2.2) (7.6.5)\n",
      "Requirement already satisfied: notebook in /home/noga/NeuroSEED/neuroseed/lib/python3.8/site-packages (from jupyter->geomstats==2.2) (6.4.8)\n",
      "Requirement already satisfied: jupyter-console in /home/noga/NeuroSEED/neuroseed/lib/python3.8/site-packages (from jupyter->geomstats==2.2) (6.4.3)\n",
      "Requirement already satisfied: jupyter-client<8.0 in /home/noga/NeuroSEED/neuroseed/lib/python3.8/site-packages (from ipykernel->jupyter->geomstats==2.2) (7.1.2)\n",
      "Requirement already satisfied: tornado<7.0,>=4.2 in /home/noga/NeuroSEED/neuroseed/lib/python3.8/site-packages (from ipykernel->jupyter->geomstats==2.2) (6.1)\n",
      "Requirement already satisfied: debugpy<2.0,>=1.0.0 in /home/noga/NeuroSEED/neuroseed/lib/python3.8/site-packages (from ipykernel->jupyter->geomstats==2.2) (1.5.1)\n",
      "Requirement already satisfied: nest-asyncio in /home/noga/NeuroSEED/neuroseed/lib/python3.8/site-packages (from ipykernel->jupyter->geomstats==2.2) (1.5.4)\n",
      "Requirement already satisfied: matplotlib-inline<0.2.0,>=0.1.0 in /home/noga/NeuroSEED/neuroseed/lib/python3.8/site-packages (from ipykernel->jupyter->geomstats==2.2) (0.1.3)\n",
      "Requirement already satisfied: traitlets<6.0,>=5.1.0 in /home/noga/NeuroSEED/neuroseed/lib/python3.8/site-packages (from ipykernel->jupyter->geomstats==2.2) (5.1.1)\n",
      "Requirement already satisfied: ipython>=7.23.1 in /home/noga/NeuroSEED/neuroseed/lib/python3.8/site-packages (from ipykernel->jupyter->geomstats==2.2) (8.1.1)\n",
      "Requirement already satisfied: decorator in /home/noga/NeuroSEED/neuroseed/lib/python3.8/site-packages (from ipython>=7.23.1->ipykernel->jupyter->geomstats==2.2) (5.1.1)\n",
      "Requirement already satisfied: setuptools>=18.5 in /home/noga/NeuroSEED/neuroseed/lib/python3.8/site-packages (from ipython>=7.23.1->ipykernel->jupyter->geomstats==2.2) (56.0.0)\n",
      "Requirement already satisfied: stack-data in /home/noga/NeuroSEED/neuroseed/lib/python3.8/site-packages (from ipython>=7.23.1->ipykernel->jupyter->geomstats==2.2) (0.2.0)\n",
      "Requirement already satisfied: prompt-toolkit!=3.0.0,!=3.0.1,<3.1.0,>=2.0.0 in /home/noga/NeuroSEED/neuroseed/lib/python3.8/site-packages (from ipython>=7.23.1->ipykernel->jupyter->geomstats==2.2) (3.0.28)\n",
      "Requirement already satisfied: pygments>=2.4.0 in /home/noga/NeuroSEED/neuroseed/lib/python3.8/site-packages (from ipython>=7.23.1->ipykernel->jupyter->geomstats==2.2) (2.11.2)\n",
      "Requirement already satisfied: pexpect>4.3 in /home/noga/NeuroSEED/neuroseed/lib/python3.8/site-packages (from ipython>=7.23.1->ipykernel->jupyter->geomstats==2.2) (4.8.0)\n",
      "Requirement already satisfied: pickleshare in /home/noga/NeuroSEED/neuroseed/lib/python3.8/site-packages (from ipython>=7.23.1->ipykernel->jupyter->geomstats==2.2) (0.7.5)\n",
      "Requirement already satisfied: jedi>=0.16 in /home/noga/NeuroSEED/neuroseed/lib/python3.8/site-packages (from ipython>=7.23.1->ipykernel->jupyter->geomstats==2.2) (0.18.1)\n",
      "Requirement already satisfied: backcall in /home/noga/NeuroSEED/neuroseed/lib/python3.8/site-packages (from ipython>=7.23.1->ipykernel->jupyter->geomstats==2.2) (0.2.0)\n",
      "Requirement already satisfied: parso<0.9.0,>=0.8.0 in /home/noga/NeuroSEED/neuroseed/lib/python3.8/site-packages (from jedi>=0.16->ipython>=7.23.1->ipykernel->jupyter->geomstats==2.2) (0.8.3)\n",
      "Requirement already satisfied: python-dateutil>=2.1 in /home/noga/NeuroSEED/neuroseed/lib/python3.8/site-packages (from jupyter-client<8.0->ipykernel->jupyter->geomstats==2.2) (2.8.2)\n",
      "Requirement already satisfied: jupyter-core>=4.6.0 in /home/noga/NeuroSEED/neuroseed/lib/python3.8/site-packages (from jupyter-client<8.0->ipykernel->jupyter->geomstats==2.2) (4.9.2)\n",
      "Requirement already satisfied: pyzmq>=13 in /home/noga/NeuroSEED/neuroseed/lib/python3.8/site-packages (from jupyter-client<8.0->ipykernel->jupyter->geomstats==2.2) (22.3.0)\n",
      "Requirement already satisfied: entrypoints in /home/noga/NeuroSEED/neuroseed/lib/python3.8/site-packages (from jupyter-client<8.0->ipykernel->jupyter->geomstats==2.2) (0.4)\n",
      "Requirement already satisfied: ptyprocess>=0.5 in /home/noga/NeuroSEED/neuroseed/lib/python3.8/site-packages (from pexpect>4.3->ipython>=7.23.1->ipykernel->jupyter->geomstats==2.2) (0.7.0)\n",
      "Requirement already satisfied: wcwidth in /home/noga/NeuroSEED/neuroseed/lib/python3.8/site-packages (from prompt-toolkit!=3.0.0,!=3.0.1,<3.1.0,>=2.0.0->ipython>=7.23.1->ipykernel->jupyter->geomstats==2.2) (0.2.5)\n",
      "Requirement already satisfied: six>=1.5 in /home/noga/NeuroSEED/neuroseed/lib/python3.8/site-packages (from python-dateutil>=2.1->jupyter-client<8.0->ipykernel->jupyter->geomstats==2.2) (1.16.0)\n",
      "Requirement already satisfied: jupyterlab-widgets>=1.0.0 in /home/noga/NeuroSEED/neuroseed/lib/python3.8/site-packages (from ipywidgets->jupyter->geomstats==2.2) (1.0.2)\n",
      "Requirement already satisfied: widgetsnbextension~=3.5.0 in /home/noga/NeuroSEED/neuroseed/lib/python3.8/site-packages (from ipywidgets->jupyter->geomstats==2.2) (3.5.2)\n",
      "Requirement already satisfied: ipython-genutils~=0.2.0 in /home/noga/NeuroSEED/neuroseed/lib/python3.8/site-packages (from ipywidgets->jupyter->geomstats==2.2) (0.2.0)\n",
      "Requirement already satisfied: nbformat>=4.2.0 in /home/noga/NeuroSEED/neuroseed/lib/python3.8/site-packages (from ipywidgets->jupyter->geomstats==2.2) (5.2.0)\n",
      "Requirement already satisfied: jsonschema!=2.5.0,>=2.4 in /home/noga/NeuroSEED/neuroseed/lib/python3.8/site-packages (from nbformat>=4.2.0->ipywidgets->jupyter->geomstats==2.2) (4.4.0)\n",
      "Requirement already satisfied: pyrsistent!=0.17.0,!=0.17.1,!=0.17.2,>=0.14.0 in /home/noga/NeuroSEED/neuroseed/lib/python3.8/site-packages (from jsonschema!=2.5.0,>=2.4->nbformat>=4.2.0->ipywidgets->jupyter->geomstats==2.2) (0.18.1)\n",
      "Requirement already satisfied: importlib-resources>=1.4.0 in /home/noga/NeuroSEED/neuroseed/lib/python3.8/site-packages (from jsonschema!=2.5.0,>=2.4->nbformat>=4.2.0->ipywidgets->jupyter->geomstats==2.2) (5.4.0)\n",
      "Requirement already satisfied: attrs>=17.4.0 in /home/noga/NeuroSEED/neuroseed/lib/python3.8/site-packages (from jsonschema!=2.5.0,>=2.4->nbformat>=4.2.0->ipywidgets->jupyter->geomstats==2.2) (21.4.0)\n",
      "Requirement already satisfied: zipp>=3.1.0 in /home/noga/NeuroSEED/neuroseed/lib/python3.8/site-packages (from importlib-resources>=1.4.0->jsonschema!=2.5.0,>=2.4->nbformat>=4.2.0->ipywidgets->jupyter->geomstats==2.2) (3.7.0)\n",
      "Requirement already satisfied: terminado>=0.8.3 in /home/noga/NeuroSEED/neuroseed/lib/python3.8/site-packages (from notebook->jupyter->geomstats==2.2) (0.13.3)\n",
      "Requirement already satisfied: Send2Trash>=1.8.0 in /home/noga/NeuroSEED/neuroseed/lib/python3.8/site-packages (from notebook->jupyter->geomstats==2.2) (1.8.0)\n",
      "Requirement already satisfied: prometheus-client in /home/noga/NeuroSEED/neuroseed/lib/python3.8/site-packages (from notebook->jupyter->geomstats==2.2) (0.13.1)\n",
      "Requirement already satisfied: jinja2 in /home/noga/NeuroSEED/neuroseed/lib/python3.8/site-packages (from notebook->jupyter->geomstats==2.2) (3.0.3)\n",
      "Requirement already satisfied: argon2-cffi in /home/noga/NeuroSEED/neuroseed/lib/python3.8/site-packages (from notebook->jupyter->geomstats==2.2) (21.3.0)\n",
      "Requirement already satisfied: argon2-cffi-bindings in /home/noga/NeuroSEED/neuroseed/lib/python3.8/site-packages (from argon2-cffi->notebook->jupyter->geomstats==2.2) (21.2.0)\n",
      "Requirement already satisfied: cffi>=1.0.1 in /home/noga/NeuroSEED/neuroseed/lib/python3.8/site-packages (from argon2-cffi-bindings->argon2-cffi->notebook->jupyter->geomstats==2.2) (1.15.0)\n",
      "Requirement already satisfied: pycparser in /home/noga/NeuroSEED/neuroseed/lib/python3.8/site-packages (from cffi>=1.0.1->argon2-cffi-bindings->argon2-cffi->notebook->jupyter->geomstats==2.2) (2.21)\n",
      "Requirement already satisfied: MarkupSafe>=2.0 in /home/noga/NeuroSEED/neuroseed/lib/python3.8/site-packages (from jinja2->notebook->jupyter->geomstats==2.2) (2.1.0)\n",
      "Requirement already satisfied: cycler>=0.10 in /home/noga/NeuroSEED/neuroseed/lib/python3.8/site-packages (from matplotlib->geomstats==2.2) (0.11.0)\n",
      "Requirement already satisfied: kiwisolver>=1.0.1 in /home/noga/NeuroSEED/neuroseed/lib/python3.8/site-packages (from matplotlib->geomstats==2.2) (1.3.2)\n",
      "Requirement already satisfied: fonttools>=4.22.0 in /home/noga/NeuroSEED/neuroseed/lib/python3.8/site-packages (from matplotlib->geomstats==2.2) (4.30.0)\n",
      "Requirement already satisfied: pyparsing>=2.2.1 in /home/noga/NeuroSEED/neuroseed/lib/python3.8/site-packages (from matplotlib->geomstats==2.2) (3.0.7)\n",
      "Requirement already satisfied: pillow>=6.2.0 in /home/noga/NeuroSEED/neuroseed/lib/python3.8/site-packages (from matplotlib->geomstats==2.2) (9.0.1)\n",
      "Requirement already satisfied: packaging>=20.0 in /home/noga/NeuroSEED/neuroseed/lib/python3.8/site-packages (from matplotlib->geomstats==2.2) (21.3)\n",
      "Requirement already satisfied: mistune<2,>=0.8.1 in /home/noga/NeuroSEED/neuroseed/lib/python3.8/site-packages (from nbconvert->jupyter->geomstats==2.2) (0.8.4)\n",
      "Requirement already satisfied: testpath in /home/noga/NeuroSEED/neuroseed/lib/python3.8/site-packages (from nbconvert->jupyter->geomstats==2.2) (0.6.0)\n",
      "Requirement already satisfied: defusedxml in /home/noga/NeuroSEED/neuroseed/lib/python3.8/site-packages (from nbconvert->jupyter->geomstats==2.2) (0.7.1)\n",
      "Requirement already satisfied: nbclient<0.6.0,>=0.5.0 in /home/noga/NeuroSEED/neuroseed/lib/python3.8/site-packages (from nbconvert->jupyter->geomstats==2.2) (0.5.12)\n",
      "Requirement already satisfied: bleach in /home/noga/NeuroSEED/neuroseed/lib/python3.8/site-packages (from nbconvert->jupyter->geomstats==2.2) (4.1.0)\n",
      "Requirement already satisfied: jupyterlab-pygments in /home/noga/NeuroSEED/neuroseed/lib/python3.8/site-packages (from nbconvert->jupyter->geomstats==2.2) (0.1.2)\n",
      "Requirement already satisfied: pandocfilters>=1.4.1 in /home/noga/NeuroSEED/neuroseed/lib/python3.8/site-packages (from nbconvert->jupyter->geomstats==2.2) (1.5.0)\n",
      "Requirement already satisfied: webencodings in /home/noga/NeuroSEED/neuroseed/lib/python3.8/site-packages (from bleach->nbconvert->jupyter->geomstats==2.2) (0.5.1)\n",
      "Requirement already satisfied: qtpy in /home/noga/NeuroSEED/neuroseed/lib/python3.8/site-packages (from qtconsole->jupyter->geomstats==2.2) (2.0.1)\n",
      "Requirement already satisfied: pure-eval in /home/noga/NeuroSEED/neuroseed/lib/python3.8/site-packages (from stack-data->ipython>=7.23.1->ipykernel->jupyter->geomstats==2.2) (0.2.2)\n",
      "Requirement already satisfied: executing in /home/noga/NeuroSEED/neuroseed/lib/python3.8/site-packages (from stack-data->ipython>=7.23.1->ipykernel->jupyter->geomstats==2.2) (0.8.3)\n",
      "Requirement already satisfied: asttokens in /home/noga/NeuroSEED/neuroseed/lib/python3.8/site-packages (from stack-data->ipython>=7.23.1->ipykernel->jupyter->geomstats==2.2) (2.0.5)\n",
      "\u001b[33mWARNING: You are using pip version 21.1.1; however, version 22.0.4 is available.\n",
      "You should consider upgrading via the '/home/noga/NeuroSEED/neuroseed/bin/python3 -m pip install --upgrade pip' command.\u001b[0m\n"
     ]
    }
   ],
   "source": [
    "!pip install geoopt==0.3.1\n",
    "!pip install torch==1.7.1+cu101 torchvision==0.8.2+cu101 torchaudio==0.7.2 -f https://download.pytorch.org/whl/torch_stable.html\n",
    "!pip3 install geomstats==2.2\n",
    "os.environ['GEOMSTATS_BACKEND'] = 'pytorch'"
   ]
  },
  {
   "cell_type": "code",
   "execution_count": 23,
   "metadata": {
    "colab": {
     "base_uri": "https://localhost:8080/"
    },
    "id": "Ym4wkXPfc4O3",
    "outputId": "6285cb49-5a92-4fb1-a8c7-f5acf731abf1"
   },
   "outputs": [],
   "source": [
    "import torch\n",
    "import os \n",
    "import sys\n",
    "import torch.nn as nn\n",
    "import torch.nn.functional as F\n",
    "import torch.optim as optim\n",
    "import time\n",
    "from geomstats.geometry.poincare_ball import PoincareBall\n",
    "\n",
    "sys.path.append(\"../\")\n",
    "from edit_distance.train import load_edit_distance_dataset\n",
    "from util.data_handling.data_loader import get_dataloaders\n",
    "from util.ml_and_math.loss_functions import AverageMeter\n",
    "\n"
   ]
  },
  {
   "cell_type": "markdown",
   "metadata": {
    "id": "-mH5MrL1hYIL"
   },
   "source": [
    "### Edit distance approximation"
   ]
  },
  {
   "cell_type": "code",
   "execution_count": 24,
   "metadata": {
    "id": "EXBg45KBeACe"
   },
   "outputs": [],
   "source": [
    "class LinearEncoder(nn.Module):\n",
    "    \"\"\"  Linear model which simply flattens the sequence and applies a linear transformation. \"\"\"\n",
    "\n",
    "    def __init__(self, len_sequence, embedding_size, alphabet_size=4):\n",
    "        super(LinearEncoder, self).__init__()\n",
    "        self.encoder = nn.Linear(in_features=alphabet_size * len_sequence, \n",
    "                                 out_features=embedding_size)\n",
    "\n",
    "    def forward(self, sequence):\n",
    "        # flatten sequence and apply layer\n",
    "        B = sequence.shape[0]\n",
    "        sequence = sequence.reshape(B, -1)\n",
    "        emb = self.encoder(sequence)\n",
    "        return emb\n",
    "\n",
    "\n",
    "class PairEmbeddingDistance(nn.Module):\n",
    "    \"\"\" Wrapper model for a general encoder, computes pairwise distances and applies projections \"\"\"\n",
    "\n",
    "    def __init__(self, embedding_model, embedding_size, scaling=False):\n",
    "        super(PairEmbeddingDistance, self).__init__()\n",
    "        self.hyperbolic_metric = PoincareBall(embedding_size).metric.dist\n",
    "        self.embedding_model = embedding_model\n",
    "        self.radius = nn.Parameter(torch.Tensor([1e-2]), requires_grad=True)\n",
    "        self.scaling = nn.Parameter(torch.Tensor([1.]), requires_grad=True)\n",
    "\n",
    "    def normalize_embeddings(self, embeddings):\n",
    "        \"\"\" Project embeddings to an hypersphere of a certain radius \"\"\"\n",
    "        min_scale = 1e-7\n",
    "        max_scale = 1 - 1e-3\n",
    "        return F.normalize(embeddings, p=2, dim=1) * self.radius.clamp_min(min_scale).clamp_max(max_scale)\n",
    "\n",
    "    def encode(self, sequence):\n",
    "        \"\"\" Use embedding model and normalization to encode some sequences. \"\"\"\n",
    "        enc_sequence = self.embedding_model(sequence)\n",
    "        enc_sequence = self.normalize_embeddings(enc_sequence)\n",
    "        return enc_sequence\n",
    "\n",
    "    def forward(self, sequence):\n",
    "        # flatten couples\n",
    "        (B, _, N, _) = sequence.shape\n",
    "        sequence = sequence.reshape(2 * B, N, -1)\n",
    "\n",
    "        # encode sequences\n",
    "        enc_sequence = self.encode(sequence)\n",
    "\n",
    "        # compute distances\n",
    "        enc_sequence = enc_sequence.reshape(B, 2, -1)\n",
    "        distance = self.hyperbolic_metric(enc_sequence[:, 0], enc_sequence[:, 1])\n",
    "        distance = distance * self.scaling\n",
    "\n",
    "        return distance"
   ]
  },
  {
   "cell_type": "markdown",
   "metadata": {
    "id": "ZDa6aholkv4z"
   },
   "source": [
    "General training and evaluation routines used to train the models:"
   ]
  },
  {
   "cell_type": "code",
   "execution_count": 25,
   "metadata": {
    "id": "0_TS2a5VmQCQ"
   },
   "outputs": [],
   "source": [
    "\n",
    "def train(model, loader, optimizer, loss, device):\n",
    "    avg_loss = AverageMeter()\n",
    "    model.train()\n",
    "\n",
    "    for sequences, labels in loader:\n",
    "        # move examples to right device\n",
    "        sequences, labels = sequences.to(device), labels.to(device)\n",
    "\n",
    "        # forward propagation\n",
    "        optimizer.zero_grad()\n",
    "        output = model(sequences)\n",
    "\n",
    "        # loss and backpropagation\n",
    "        loss_train = loss(output, labels)\n",
    "        loss_train.backward()\n",
    "        optimizer.step()\n",
    "\n",
    "        # keep track of average loss\n",
    "        avg_loss.update(loss_train.data.item(), sequences.shape[0])\n",
    "\n",
    "    return avg_loss.avg\n",
    "\n",
    "\n",
    "def test(model, loader, loss, device):\n",
    "    avg_loss = AverageMeter()\n",
    "    model.eval()\n",
    "\n",
    "    for sequences, labels in loader:\n",
    "        # move examples to right device\n",
    "        sequences, labels = sequences.to(device), labels.to(device)\n",
    "\n",
    "        # forward propagation and loss computation\n",
    "        output = model(sequences)\n",
    "        loss_val = loss(output, labels).data.item()\n",
    "        avg_loss.update(loss_val, sequences.shape[0])\n",
    "\n",
    "    return avg_loss.avg"
   ]
  },
  {
   "cell_type": "markdown",
   "metadata": {
    "id": "49GU1jZAlBTE"
   },
   "source": [
    "The linear model is trained on 7000 sequences (+700 of validation) and tested on 1500 different sequences: "
   ]
  },
  {
   "cell_type": "code",
   "execution_count": 26,
   "metadata": {
    "colab": {
     "base_uri": "https://localhost:8080/"
    },
    "id": "UC6Qio4WSnSh",
    "outputId": "2ed86477-69a6-4547-8740-1072224973d7"
   },
   "outputs": [
    {
     "ename": "RuntimeError",
     "evalue": "Can't call numpy() on Tensor that requires grad. Use tensor.detach().numpy() instead.",
     "output_type": "error",
     "traceback": [
      "\u001b[0;31m---------------------------------------------------------------------------\u001b[0m",
      "\u001b[0;31mRuntimeError\u001b[0m                              Traceback (most recent call last)",
      "\u001b[1;32m/home/noga/NeuroSEED/hypersmorf/basic_hyperbolic_embedding.ipynb Cell 9'\u001b[0m in \u001b[0;36m<cell line: 21>\u001b[0;34m()\u001b[0m\n\u001b[1;32m     <a href='vscode-notebook-cell://ssh-remote%2Baeolus/home/noga/NeuroSEED/hypersmorf/basic_hyperbolic_embedding.ipynb#ch0000016vscode-remote?line=20'>21</a>\u001b[0m \u001b[39mfor\u001b[39;00m epoch \u001b[39min\u001b[39;00m \u001b[39mrange\u001b[39m(\u001b[39m0\u001b[39m, \u001b[39m5\u001b[39m):\n\u001b[1;32m     <a href='vscode-notebook-cell://ssh-remote%2Baeolus/home/noga/NeuroSEED/hypersmorf/basic_hyperbolic_embedding.ipynb#ch0000016vscode-remote?line=21'>22</a>\u001b[0m     t \u001b[39m=\u001b[39m time\u001b[39m.\u001b[39mtime()\n\u001b[0;32m---> <a href='vscode-notebook-cell://ssh-remote%2Baeolus/home/noga/NeuroSEED/hypersmorf/basic_hyperbolic_embedding.ipynb#ch0000016vscode-remote?line=22'>23</a>\u001b[0m     loss_train \u001b[39m=\u001b[39m train(model, loaders[\u001b[39m'\u001b[39;49m\u001b[39mtrain\u001b[39;49m\u001b[39m'\u001b[39;49m], optimizer, loss, device)\n\u001b[1;32m     <a href='vscode-notebook-cell://ssh-remote%2Baeolus/home/noga/NeuroSEED/hypersmorf/basic_hyperbolic_embedding.ipynb#ch0000016vscode-remote?line=23'>24</a>\u001b[0m     loss_val \u001b[39m=\u001b[39m test(model, loaders[\u001b[39m'\u001b[39m\u001b[39mval\u001b[39m\u001b[39m'\u001b[39m], loss, device)\n\u001b[1;32m     <a href='vscode-notebook-cell://ssh-remote%2Baeolus/home/noga/NeuroSEED/hypersmorf/basic_hyperbolic_embedding.ipynb#ch0000016vscode-remote?line=25'>26</a>\u001b[0m     \u001b[39m# print progress\u001b[39;00m\n",
      "\u001b[1;32m/home/noga/NeuroSEED/hypersmorf/basic_hyperbolic_embedding.ipynb Cell 7'\u001b[0m in \u001b[0;36mtrain\u001b[0;34m(model, loader, optimizer, loss, device)\u001b[0m\n\u001b[1;32m      <a href='vscode-notebook-cell://ssh-remote%2Baeolus/home/noga/NeuroSEED/hypersmorf/basic_hyperbolic_embedding.ipynb#ch0000014vscode-remote?line=8'>9</a>\u001b[0m \u001b[39m# forward propagation\u001b[39;00m\n\u001b[1;32m     <a href='vscode-notebook-cell://ssh-remote%2Baeolus/home/noga/NeuroSEED/hypersmorf/basic_hyperbolic_embedding.ipynb#ch0000014vscode-remote?line=9'>10</a>\u001b[0m optimizer\u001b[39m.\u001b[39mzero_grad()\n\u001b[0;32m---> <a href='vscode-notebook-cell://ssh-remote%2Baeolus/home/noga/NeuroSEED/hypersmorf/basic_hyperbolic_embedding.ipynb#ch0000014vscode-remote?line=10'>11</a>\u001b[0m output \u001b[39m=\u001b[39m model(sequences)\n\u001b[1;32m     <a href='vscode-notebook-cell://ssh-remote%2Baeolus/home/noga/NeuroSEED/hypersmorf/basic_hyperbolic_embedding.ipynb#ch0000014vscode-remote?line=12'>13</a>\u001b[0m \u001b[39m# loss and backpropagation\u001b[39;00m\n\u001b[1;32m     <a href='vscode-notebook-cell://ssh-remote%2Baeolus/home/noga/NeuroSEED/hypersmorf/basic_hyperbolic_embedding.ipynb#ch0000014vscode-remote?line=13'>14</a>\u001b[0m loss_train \u001b[39m=\u001b[39m loss(output, labels)\n",
      "File \u001b[0;32m~/NeuroSEED/neuroseed/lib/python3.8/site-packages/torch/nn/modules/module.py:727\u001b[0m, in \u001b[0;36mModule._call_impl\u001b[0;34m(self, *input, **kwargs)\u001b[0m\n\u001b[1;32m    <a href='file:///home/noga/NeuroSEED/neuroseed/lib/python3.8/site-packages/torch/nn/modules/module.py?line=724'>725</a>\u001b[0m     result \u001b[39m=\u001b[39m \u001b[39mself\u001b[39m\u001b[39m.\u001b[39m_slow_forward(\u001b[39m*\u001b[39m\u001b[39minput\u001b[39m, \u001b[39m*\u001b[39m\u001b[39m*\u001b[39mkwargs)\n\u001b[1;32m    <a href='file:///home/noga/NeuroSEED/neuroseed/lib/python3.8/site-packages/torch/nn/modules/module.py?line=725'>726</a>\u001b[0m \u001b[39melse\u001b[39;00m:\n\u001b[0;32m--> <a href='file:///home/noga/NeuroSEED/neuroseed/lib/python3.8/site-packages/torch/nn/modules/module.py?line=726'>727</a>\u001b[0m     result \u001b[39m=\u001b[39m \u001b[39mself\u001b[39;49m\u001b[39m.\u001b[39;49mforward(\u001b[39m*\u001b[39;49m\u001b[39minput\u001b[39;49m, \u001b[39m*\u001b[39;49m\u001b[39m*\u001b[39;49mkwargs)\n\u001b[1;32m    <a href='file:///home/noga/NeuroSEED/neuroseed/lib/python3.8/site-packages/torch/nn/modules/module.py?line=727'>728</a>\u001b[0m \u001b[39mfor\u001b[39;00m hook \u001b[39min\u001b[39;00m itertools\u001b[39m.\u001b[39mchain(\n\u001b[1;32m    <a href='file:///home/noga/NeuroSEED/neuroseed/lib/python3.8/site-packages/torch/nn/modules/module.py?line=728'>729</a>\u001b[0m         _global_forward_hooks\u001b[39m.\u001b[39mvalues(),\n\u001b[1;32m    <a href='file:///home/noga/NeuroSEED/neuroseed/lib/python3.8/site-packages/torch/nn/modules/module.py?line=729'>730</a>\u001b[0m         \u001b[39mself\u001b[39m\u001b[39m.\u001b[39m_forward_hooks\u001b[39m.\u001b[39mvalues()):\n\u001b[1;32m    <a href='file:///home/noga/NeuroSEED/neuroseed/lib/python3.8/site-packages/torch/nn/modules/module.py?line=730'>731</a>\u001b[0m     hook_result \u001b[39m=\u001b[39m hook(\u001b[39mself\u001b[39m, \u001b[39minput\u001b[39m, result)\n",
      "\u001b[1;32m/home/noga/NeuroSEED/hypersmorf/basic_hyperbolic_embedding.ipynb Cell 5'\u001b[0m in \u001b[0;36mPairEmbeddingDistance.forward\u001b[0;34m(self, sequence)\u001b[0m\n\u001b[1;32m     <a href='vscode-notebook-cell://ssh-remote%2Baeolus/home/noga/NeuroSEED/hypersmorf/basic_hyperbolic_embedding.ipynb#ch0000012vscode-remote?line=46'>47</a>\u001b[0m \u001b[39m# compute distances\u001b[39;00m\n\u001b[1;32m     <a href='vscode-notebook-cell://ssh-remote%2Baeolus/home/noga/NeuroSEED/hypersmorf/basic_hyperbolic_embedding.ipynb#ch0000012vscode-remote?line=47'>48</a>\u001b[0m enc_sequence \u001b[39m=\u001b[39m enc_sequence\u001b[39m.\u001b[39mreshape(B, \u001b[39m2\u001b[39m, \u001b[39m-\u001b[39m\u001b[39m1\u001b[39m)\n\u001b[0;32m---> <a href='vscode-notebook-cell://ssh-remote%2Baeolus/home/noga/NeuroSEED/hypersmorf/basic_hyperbolic_embedding.ipynb#ch0000012vscode-remote?line=48'>49</a>\u001b[0m distance \u001b[39m=\u001b[39m \u001b[39mself\u001b[39;49m\u001b[39m.\u001b[39;49mhyperbolic_metric(enc_sequence[:, \u001b[39m0\u001b[39;49m], enc_sequence[:, \u001b[39m1\u001b[39;49m])\n\u001b[1;32m     <a href='vscode-notebook-cell://ssh-remote%2Baeolus/home/noga/NeuroSEED/hypersmorf/basic_hyperbolic_embedding.ipynb#ch0000012vscode-remote?line=49'>50</a>\u001b[0m distance \u001b[39m=\u001b[39m distance \u001b[39m*\u001b[39m \u001b[39mself\u001b[39m\u001b[39m.\u001b[39mscaling\n\u001b[1;32m     <a href='vscode-notebook-cell://ssh-remote%2Baeolus/home/noga/NeuroSEED/hypersmorf/basic_hyperbolic_embedding.ipynb#ch0000012vscode-remote?line=51'>52</a>\u001b[0m \u001b[39mreturn\u001b[39;00m distance\n",
      "File \u001b[0;32m~/NeuroSEED/neuroseed/lib/python3.8/site-packages/geomstats/vectorization.py:101\u001b[0m, in \u001b[0;36mdecorator.<locals>.aux_decorator.<locals>.wrapper\u001b[0;34m(*args, **kwargs)\u001b[0m\n\u001b[1;32m     <a href='file:///home/noga/NeuroSEED/neuroseed/lib/python3.8/site-packages/geomstats/vectorization.py?line=97'>98</a>\u001b[0m kwargs_shapes \u001b[39m=\u001b[39m get_initial_shapes(kwargs_types, kwargs\u001b[39m.\u001b[39mvalues())\n\u001b[1;32m     <a href='file:///home/noga/NeuroSEED/neuroseed/lib/python3.8/site-packages/geomstats/vectorization.py?line=98'>99</a>\u001b[0m initial_shapes \u001b[39m=\u001b[39m args_shapes \u001b[39m+\u001b[39m kwargs_shapes\n\u001b[0;32m--> <a href='file:///home/noga/NeuroSEED/neuroseed/lib/python3.8/site-packages/geomstats/vectorization.py?line=100'>101</a>\u001b[0m vect_args \u001b[39m=\u001b[39m vectorize_args(args_types, args)\n\u001b[1;32m    <a href='file:///home/noga/NeuroSEED/neuroseed/lib/python3.8/site-packages/geomstats/vectorization.py?line=101'>102</a>\u001b[0m vect_kwargs \u001b[39m=\u001b[39m vectorize_kwargs(kwargs_types, kwargs)\n\u001b[1;32m    <a href='file:///home/noga/NeuroSEED/neuroseed/lib/python3.8/site-packages/geomstats/vectorization.py?line=103'>104</a>\u001b[0m result \u001b[39m=\u001b[39m function(\u001b[39m*\u001b[39mvect_args, \u001b[39m*\u001b[39m\u001b[39m*\u001b[39mvect_kwargs)\n",
      "File \u001b[0;32m~/NeuroSEED/neuroseed/lib/python3.8/site-packages/geomstats/vectorization.py:276\u001b[0m, in \u001b[0;36mvectorize_args\u001b[0;34m(input_types, args)\u001b[0m\n\u001b[1;32m    <a href='file:///home/noga/NeuroSEED/neuroseed/lib/python3.8/site-packages/geomstats/vectorization.py?line=273'>274</a>\u001b[0m     vect_arg \u001b[39m=\u001b[39m gs\u001b[39m.\u001b[39mto_ndarray(vect_arg, to_ndim\u001b[39m=\u001b[39m\u001b[39m2\u001b[39m, axis\u001b[39m=\u001b[39m\u001b[39m1\u001b[39m)\n\u001b[1;32m    <a href='file:///home/noga/NeuroSEED/neuroseed/lib/python3.8/site-packages/geomstats/vectorization.py?line=274'>275</a>\u001b[0m \u001b[39melif\u001b[39;00m input_type \u001b[39min\u001b[39;00m POINT_TYPES \u001b[39mand\u001b[39;00m arg \u001b[39mis\u001b[39;00m \u001b[39mnot\u001b[39;00m \u001b[39mNone\u001b[39;00m:\n\u001b[0;32m--> <a href='file:///home/noga/NeuroSEED/neuroseed/lib/python3.8/site-packages/geomstats/vectorization.py?line=275'>276</a>\u001b[0m     vect_arg \u001b[39m=\u001b[39m gs\u001b[39m.\u001b[39;49mto_ndarray(\n\u001b[1;32m    <a href='file:///home/noga/NeuroSEED/neuroseed/lib/python3.8/site-packages/geomstats/vectorization.py?line=276'>277</a>\u001b[0m         arg, to_ndim\u001b[39m=\u001b[39;49mPOINT_TYPES_TO_NDIMS[input_type])\n\u001b[1;32m    <a href='file:///home/noga/NeuroSEED/neuroseed/lib/python3.8/site-packages/geomstats/vectorization.py?line=277'>278</a>\u001b[0m \u001b[39melif\u001b[39;00m input_type \u001b[39min\u001b[39;00m OTHER_TYPES \u001b[39mor\u001b[39;00m arg \u001b[39mis\u001b[39;00m \u001b[39mNone\u001b[39;00m:\n\u001b[1;32m    <a href='file:///home/noga/NeuroSEED/neuroseed/lib/python3.8/site-packages/geomstats/vectorization.py?line=278'>279</a>\u001b[0m     vect_arg \u001b[39m=\u001b[39m arg\n",
      "File \u001b[0;32m~/NeuroSEED/neuroseed/lib/python3.8/site-packages/geomstats/_backend/numpy/common.py:5\u001b[0m, in \u001b[0;36mto_ndarray\u001b[0;34m(x, to_ndim, axis)\u001b[0m\n\u001b[1;32m      <a href='file:///home/noga/NeuroSEED/neuroseed/lib/python3.8/site-packages/geomstats/_backend/numpy/common.py?line=3'>4</a>\u001b[0m \u001b[39mdef\u001b[39;00m \u001b[39mto_ndarray\u001b[39m(x, to_ndim, axis\u001b[39m=\u001b[39m\u001b[39m0\u001b[39m):\n\u001b[0;32m----> <a href='file:///home/noga/NeuroSEED/neuroseed/lib/python3.8/site-packages/geomstats/_backend/numpy/common.py?line=4'>5</a>\u001b[0m     x \u001b[39m=\u001b[39m np\u001b[39m.\u001b[39;49marray(x)\n\u001b[1;32m      <a href='file:///home/noga/NeuroSEED/neuroseed/lib/python3.8/site-packages/geomstats/_backend/numpy/common.py?line=5'>6</a>\u001b[0m     \u001b[39mif\u001b[39;00m x\u001b[39m.\u001b[39mndim \u001b[39m==\u001b[39m to_ndim \u001b[39m-\u001b[39m \u001b[39m1\u001b[39m:\n\u001b[1;32m      <a href='file:///home/noga/NeuroSEED/neuroseed/lib/python3.8/site-packages/geomstats/_backend/numpy/common.py?line=6'>7</a>\u001b[0m         x \u001b[39m=\u001b[39m np\u001b[39m.\u001b[39mexpand_dims(x, axis\u001b[39m=\u001b[39maxis)\n",
      "File \u001b[0;32m~/NeuroSEED/neuroseed/lib/python3.8/site-packages/autograd/numpy/numpy_wrapper.py:60\u001b[0m, in \u001b[0;36marray\u001b[0;34m(A, *args, **kwargs)\u001b[0m\n\u001b[1;32m     <a href='file:///home/noga/NeuroSEED/neuroseed/lib/python3.8/site-packages/autograd/numpy/numpy_wrapper.py?line=57'>58</a>\u001b[0m     \u001b[39mreturn\u001b[39;00m array_from_args(args, kwargs, \u001b[39m*\u001b[39m\u001b[39mmap\u001b[39m(array, A))\n\u001b[1;32m     <a href='file:///home/noga/NeuroSEED/neuroseed/lib/python3.8/site-packages/autograd/numpy/numpy_wrapper.py?line=58'>59</a>\u001b[0m \u001b[39melse\u001b[39;00m:\n\u001b[0;32m---> <a href='file:///home/noga/NeuroSEED/neuroseed/lib/python3.8/site-packages/autograd/numpy/numpy_wrapper.py?line=59'>60</a>\u001b[0m     \u001b[39mreturn\u001b[39;00m _array_from_scalar_or_array(args, kwargs, A)\n",
      "File \u001b[0;32m~/NeuroSEED/neuroseed/lib/python3.8/site-packages/autograd/tracer.py:48\u001b[0m, in \u001b[0;36mprimitive.<locals>.f_wrapped\u001b[0;34m(*args, **kwargs)\u001b[0m\n\u001b[1;32m     <a href='file:///home/noga/NeuroSEED/neuroseed/lib/python3.8/site-packages/autograd/tracer.py?line=45'>46</a>\u001b[0m     \u001b[39mreturn\u001b[39;00m new_box(ans, trace, node)\n\u001b[1;32m     <a href='file:///home/noga/NeuroSEED/neuroseed/lib/python3.8/site-packages/autograd/tracer.py?line=46'>47</a>\u001b[0m \u001b[39melse\u001b[39;00m:\n\u001b[0;32m---> <a href='file:///home/noga/NeuroSEED/neuroseed/lib/python3.8/site-packages/autograd/tracer.py?line=47'>48</a>\u001b[0m     \u001b[39mreturn\u001b[39;00m f_raw(\u001b[39m*\u001b[39;49margs, \u001b[39m*\u001b[39;49m\u001b[39m*\u001b[39;49mkwargs)\n",
      "File \u001b[0;32m~/NeuroSEED/neuroseed/lib/python3.8/site-packages/autograd/numpy/numpy_wrapper.py:73\u001b[0m, in \u001b[0;36m_array_from_scalar_or_array\u001b[0;34m(array_args, array_kwargs, scalar)\u001b[0m\n\u001b[1;32m     <a href='file:///home/noga/NeuroSEED/neuroseed/lib/python3.8/site-packages/autograd/numpy/numpy_wrapper.py?line=70'>71</a>\u001b[0m \u001b[39m@primitive\u001b[39m\n\u001b[1;32m     <a href='file:///home/noga/NeuroSEED/neuroseed/lib/python3.8/site-packages/autograd/numpy/numpy_wrapper.py?line=71'>72</a>\u001b[0m \u001b[39mdef\u001b[39;00m \u001b[39m_array_from_scalar_or_array\u001b[39m(array_args, array_kwargs, scalar):\n\u001b[0;32m---> <a href='file:///home/noga/NeuroSEED/neuroseed/lib/python3.8/site-packages/autograd/numpy/numpy_wrapper.py?line=72'>73</a>\u001b[0m     \u001b[39mreturn\u001b[39;00m _np\u001b[39m.\u001b[39;49marray(scalar, \u001b[39m*\u001b[39;49marray_args, \u001b[39m*\u001b[39;49m\u001b[39m*\u001b[39;49marray_kwargs)\n",
      "File \u001b[0;32m~/NeuroSEED/neuroseed/lib/python3.8/site-packages/torch/tensor.py:630\u001b[0m, in \u001b[0;36mTensor.__array__\u001b[0;34m(self, dtype)\u001b[0m\n\u001b[1;32m    <a href='file:///home/noga/NeuroSEED/neuroseed/lib/python3.8/site-packages/torch/tensor.py?line=627'>628</a>\u001b[0m     \u001b[39mreturn\u001b[39;00m handle_torch_function(Tensor\u001b[39m.\u001b[39m__array__, relevant_args, \u001b[39mself\u001b[39m, dtype\u001b[39m=\u001b[39mdtype)\n\u001b[1;32m    <a href='file:///home/noga/NeuroSEED/neuroseed/lib/python3.8/site-packages/torch/tensor.py?line=628'>629</a>\u001b[0m \u001b[39mif\u001b[39;00m dtype \u001b[39mis\u001b[39;00m \u001b[39mNone\u001b[39;00m:\n\u001b[0;32m--> <a href='file:///home/noga/NeuroSEED/neuroseed/lib/python3.8/site-packages/torch/tensor.py?line=629'>630</a>\u001b[0m     \u001b[39mreturn\u001b[39;00m \u001b[39mself\u001b[39;49m\u001b[39m.\u001b[39;49mnumpy()\n\u001b[1;32m    <a href='file:///home/noga/NeuroSEED/neuroseed/lib/python3.8/site-packages/torch/tensor.py?line=630'>631</a>\u001b[0m \u001b[39melse\u001b[39;00m:\n\u001b[1;32m    <a href='file:///home/noga/NeuroSEED/neuroseed/lib/python3.8/site-packages/torch/tensor.py?line=631'>632</a>\u001b[0m     \u001b[39mreturn\u001b[39;00m \u001b[39mself\u001b[39m\u001b[39m.\u001b[39mnumpy()\u001b[39m.\u001b[39mastype(dtype, copy\u001b[39m=\u001b[39m\u001b[39mFalse\u001b[39;00m)\n",
      "\u001b[0;31mRuntimeError\u001b[0m: Can't call numpy() on Tensor that requires grad. Use tensor.detach().numpy() instead."
     ]
    }
   ],
   "source": [
    "EMBEDDING_SIZE = 128\n",
    "\n",
    "device = 'cuda' if torch.cuda.is_available() else 'cpu'\n",
    "torch.manual_seed(2021)\n",
    "if device == 'cuda':\n",
    "    torch.cuda.manual_seed(2021)\n",
    "\n",
    "# load data\n",
    "datasets = load_edit_distance_dataset('../edit_qiita_large.pkl')\n",
    "loaders = get_dataloaders(datasets, batch_size=128, workers=1)\n",
    "\n",
    "# model, optimizer and loss\n",
    "encoder = LinearEncoder(152, EMBEDDING_SIZE)\n",
    "model = PairEmbeddingDistance(embedding_model=encoder, embedding_size=EMBEDDING_SIZE)\n",
    "model.to(device)\n",
    "\n",
    "optimizer = optim.Adam(model.parameters(), lr=0.001)\n",
    "loss = nn.MSELoss()\n",
    "\n",
    "# training\n",
    "for epoch in range(0, 5):\n",
    "    t = time.time()\n",
    "    loss_train = train(model, loaders['train'], optimizer, loss, device)\n",
    "    loss_val = test(model, loaders['val'], loss, device)\n",
    "\n",
    "    # print progress\n",
    "    if epoch % 1 == 0:\n",
    "        print('Epoch: {:02d}'.format(epoch),\n",
    "              'loss_train: {:.6f}'.format(loss_train),\n",
    "              'loss_val: {:.6f}'.format(loss_val),\n",
    "              'time: {:.4f}s'.format(time.time() - t))\n",
    "      \n",
    "# testing\n",
    "for dset in loaders.keys():\n",
    "    avg_loss = test(model, loaders[dset], loss, device)\n",
    "    print('Final results {}: loss = {:.6f}'.format(dset, avg_loss))\n"
   ]
  }
 ],
 "metadata": {
  "accelerator": "GPU",
  "colab": {
   "collapsed_sections": [],
   "name": "Neural SEED.ipynb",
   "provenance": []
  },
  "kernelspec": {
   "display_name": "Python 3",
   "language": "python",
   "name": "python3"
  },
  "language_info": {
   "codemirror_mode": {
    "name": "ipython",
    "version": 3
   },
   "file_extension": ".py",
   "mimetype": "text/x-python",
   "name": "python",
   "nbconvert_exporter": "python",
   "pygments_lexer": "ipython3",
   "version": "3.8.10"
  },
  "pycharm": {
   "stem_cell": {
    "cell_type": "raw",
    "metadata": {
     "collapsed": false
    },
    "source": []
   }
  }
 },
 "nbformat": 4,
 "nbformat_minor": 0
}
