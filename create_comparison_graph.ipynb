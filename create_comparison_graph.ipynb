{
 "cells": [
  {
   "cell_type": "code",
   "execution_count": 2,
   "metadata": {},
   "outputs": [],
   "source": [
    "import pickle\n",
    "import matplotlib"
   ]
  },
  {
   "cell_type": "code",
   "execution_count": null,
   "metadata": {},
   "outputs": [],
   "source": [
    "name='string_for_test'\n",
    "(model,avg_loss)=pickle.load(string+for_test'.pkl')"
   ]
  }
 ],
 "metadata": {
  "interpreter": {
   "hash": "4e13e2533c56491e3545ed4e2803bff001bf2a6aaeeea39b107f4a37d316c046"
  },
  "kernelspec": {
   "display_name": "Python 3.9.7 ('neuroseed-3.9')",
   "language": "python",
   "name": "python3"
  },
  "language_info": {
   "codemirror_mode": {
    "name": "ipython",
    "version": 3
   },
   "file_extension": ".py",
   "mimetype": "text/x-python",
   "name": "python",
   "nbconvert_exporter": "python",
   "pygments_lexer": "ipython3",
   "version": "3.9.7"
  },
  "orig_nbformat": 4
 },
 "nbformat": 4,
 "nbformat_minor": 2
}
